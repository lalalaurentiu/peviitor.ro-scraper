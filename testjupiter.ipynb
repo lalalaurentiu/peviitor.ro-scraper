{
 "cells": [
  {
   "cell_type": "code",
   "execution_count": 1,
   "id": "81636431",
   "metadata": {},
   "outputs": [],
   "source": [
    "# importing pandas as pd  \n",
    "import pandas as pd  \n",
    "  \n",
    "     \n",
    "# list of name, degree, score \n",
    "#nme = [\"aparna\", \"pankaj\", \"sudhir\", \"Geeku\"] \n",
    "#deg = [\"MBA\", \"BCA\", \"M.Tech\", \"MBA\"] \n",
    "#scr = [90, 40, 80, 98] \n",
    "     \n",
    "# dictionary of lists  \n",
    "#dict = {'name': nme, 'degree': deg, 'score': scr}  \n",
    "       \n",
    "#df = pd.DataFrame(dict) \n",
    "\n",
    "#print(df)\n",
    "\n",
    "with open(\"etst.txt\") as f:\n",
    "    protocols = []\n",
    "    domains = []\n",
    "    paths  = []\n",
    "    for line in f.readlines():\n",
    "        #print() #protocol\n",
    "        #print(line.split(\"/\")[2]) #domain\n",
    "        #print(line.split(\"/\")[-1].replace(\"/n\", \"\")) #path\n",
    "        protocols.append(line.split(\":\")[0])\n",
    "        domains.append(line.split(\"/\")[2])\n",
    "        paths.append(line.split(\"/\")[-1].replace(\"\\n\", \"\"))\n",
    "\n",
    "    \n",
    "    dict = {\"protocol\":protocols, \"domain\":domains, \"path\":paths}\n",
    "    df = pd.DataFrame(dict)\n",
    "    df.to_csv(\"links.csv\")"
   ]
  },
  {
   "cell_type": "code",
   "execution_count": null,
   "id": "15abf09a",
   "metadata": {},
   "outputs": [],
   "source": []
  }
 ],
 "metadata": {
  "kernelspec": {
   "display_name": "Python 3 (ipykernel)",
   "language": "python",
   "name": "python3"
  },
  "language_info": {
   "codemirror_mode": {
    "name": "ipython",
    "version": 3
   },
   "file_extension": ".py",
   "mimetype": "text/x-python",
   "name": "python",
   "nbconvert_exporter": "python",
   "pygments_lexer": "ipython3",
   "version": "3.9.13"
  }
 },
 "nbformat": 4,
 "nbformat_minor": 5
}

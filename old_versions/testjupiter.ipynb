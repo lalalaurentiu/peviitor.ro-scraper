{
 "cells": [
  {
   "cell_type": "code",
   "execution_count": 10,
   "id": "81636431",
   "metadata": {
    "scrolled": false
   },
   "outputs": [
    {
     "name": "stdout",
     "output_type": "stream",
     "text": [
      "done\n"
     ]
    }
   ],
   "source": [
    "# importing pandas as pd  \n",
    "import pandas as pd  \n",
    "from sklearn.tree import DecisionTreeClassifier\n",
    "\n",
    "#Serializarea datelor din fisierul txt intr-un fisier csv\n",
    "\n",
    "with open(\"sites.txt\") as f:\n",
    "    protocols = []\n",
    "    domains = []\n",
    "    paths  = []\n",
    "    for line in f.readlines():\n",
    "        #print() #protocol\n",
    "        #print(line.split(\"/\")[2]) #domain\n",
    "        #print(line.split(\"/\")[-1].replace(\"/n\", \"\")) #path\n",
    "        protocols.append(line.split(\":\")[0])\n",
    "        domains.append(line.split(\"/\")[2])\n",
    "        paths.append(line.split(\"/\")[-1].replace(\"\\n\", \"\"))\n",
    "\n",
    "    \n",
    "    dict = {\"protocol\":protocols, \"domain\":domains, \"path\":paths}\n",
    "    df = pd.DataFrame(dict)\n",
    "    df.to_csv(\"links.csv\")\n",
    "    print(\"done\")\n",
    "    "
   ]
  },
  {
   "cell_type": "code",
   "execution_count": 13,
   "id": "15abf09a",
   "metadata": {
    "scrolled": true
   },
   "outputs": [
    {
     "data": {
      "text/plain": [
       "0                                     jobs-active-latest.xml\n",
       "1                                       jobs-active-html.xml\n",
       "2                                      jobs-active-video.xml\n",
       "3                                      jobs-active-image.xml\n",
       "4                                       jobs-active-text.xml\n",
       "                                 ...                        \n",
       "1664964                                 developers-engineers\n",
       "1664965                  devops-site-reliability-engineering\n",
       "1664966                                     business-manager\n",
       "1664967    workforce-development-leveling-playing-field-g...\n",
       "1664968                    creating-jobs-the-open-source-way\n",
       "Name: path, Length: 1664969, dtype: object"
      ]
     },
     "execution_count": 13,
     "metadata": {},
     "output_type": "execute_result"
    }
   ],
   "source": [
    "X = df\n",
    "Y = df[\"path\"]\n",
    "Y"
   ]
  },
  {
   "cell_type": "code",
   "execution_count": null,
   "id": "cfd0f5fc",
   "metadata": {},
   "outputs": [],
   "source": []
  }
 ],
 "metadata": {
  "kernelspec": {
   "display_name": "Python 3 (ipykernel)",
   "language": "python",
   "name": "python3"
  },
  "language_info": {
   "codemirror_mode": {
    "name": "ipython",
    "version": 3
   },
   "file_extension": ".py",
   "mimetype": "text/x-python",
   "name": "python",
   "nbconvert_exporter": "python",
   "pygments_lexer": "ipython3",
   "version": "3.9.13"
  }
 },
 "nbformat": 4,
 "nbformat_minor": 5
}
